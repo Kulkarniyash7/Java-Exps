{
 "cells": [
  {
   "cell_type": "code",
   "execution_count": 3,
   "id": "4ebcd508",
   "metadata": {},
   "outputs": [],
   "source": [
    "Basic List Operation"
   ]
  },
  {
   "cell_type": "code",
   "execution_count": null,
   "id": "0a1c71eb",
   "metadata": {},
   "outputs": [],
   "source": [
    "list1=['Chemistry','Physics',1997,2000]"
   ]
  },
  {
   "cell_type": "code",
   "execution_count": 2,
   "id": "e8203924",
   "metadata": {},
   "outputs": [],
   "source": [
    "list2=[1,2,3,4,5]"
   ]
  },
  {
   "cell_type": "code",
   "execution_count": 4,
   "id": "780a6fa7",
   "metadata": {},
   "outputs": [],
   "source": [
    "list3=[\"a\",\"b\",\"c\",\"d\"]"
   ]
  },
  {
   "cell_type": "code",
   "execution_count": 5,
   "id": "3e542111",
   "metadata": {},
   "outputs": [
    {
     "name": "stdout",
     "output_type": "stream",
     "text": [
      "list1[0]: Chemistry\n"
     ]
    }
   ],
   "source": [
    "print(\"list1[0]:\",list1[0])"
   ]
  },
  {
   "cell_type": "code",
   "execution_count": 6,
   "id": "b11bb655",
   "metadata": {},
   "outputs": [
    {
     "name": "stdout",
     "output_type": "stream",
     "text": [
      "list2[1:]: [2, 3, 4, 5]\n"
     ]
    }
   ],
   "source": [
    "print(\"list2[1:]:\",list2[1:])"
   ]
  },
  {
   "cell_type": "code",
   "execution_count": 7,
   "id": "40af9ec4",
   "metadata": {},
   "outputs": [],
   "source": [
    "list2[2]=6"
   ]
  },
  {
   "cell_type": "code",
   "execution_count": 14,
   "id": "d6c9af13",
   "metadata": {},
   "outputs": [],
   "source": [
    "del list1[2]"
   ]
  },
  {
   "cell_type": "code",
   "execution_count": 16,
   "id": "0b8579eb",
   "metadata": {},
   "outputs": [
    {
     "name": "stdout",
     "output_type": "stream",
     "text": [
      "2000\n"
     ]
    }
   ],
   "source": [
    "print(list1[2])"
   ]
  },
  {
   "cell_type": "code",
   "execution_count": 17,
   "id": "cd22c5de",
   "metadata": {},
   "outputs": [
    {
     "data": {
      "text/plain": [
       "3"
      ]
     },
     "execution_count": 17,
     "metadata": {},
     "output_type": "execute_result"
    }
   ],
   "source": [
    "len([1,2,3])"
   ]
  },
  {
   "cell_type": "code",
   "execution_count": 18,
   "id": "abd4b3f1",
   "metadata": {},
   "outputs": [
    {
     "data": {
      "text/plain": [
       "[1, 2, 3, 5, 6, 7]"
      ]
     },
     "execution_count": 18,
     "metadata": {},
     "output_type": "execute_result"
    }
   ],
   "source": [
    "[1,2,3]+[5,6,7]"
   ]
  },
  {
   "cell_type": "code",
   "execution_count": 20,
   "id": "e66ed5c2",
   "metadata": {},
   "outputs": [
    {
     "data": {
      "text/plain": [
       "['Hi!', 'Hi!', 'Hi!', 'Hi!']"
      ]
     },
     "execution_count": 20,
     "metadata": {},
     "output_type": "execute_result"
    }
   ],
   "source": [
    "['Hi!']*4"
   ]
  },
  {
   "cell_type": "code",
   "execution_count": 21,
   "id": "a9dd2e81",
   "metadata": {},
   "outputs": [
    {
     "data": {
      "text/plain": [
       "True"
      ]
     },
     "execution_count": 21,
     "metadata": {},
     "output_type": "execute_result"
    }
   ],
   "source": [
    "3 in [1,2,3]"
   ]
  },
  {
   "cell_type": "code",
   "execution_count": 24,
   "id": "fae98074",
   "metadata": {},
   "outputs": [
    {
     "name": "stdout",
     "output_type": "stream",
     "text": [
      "1 2 3 "
     ]
    }
   ],
   "source": [
    "for x in [1,2,3]:\n",
    "    print(x,end=\" \")"
   ]
  },
  {
   "cell_type": "code",
   "execution_count": 26,
   "id": "b777b7da",
   "metadata": {},
   "outputs": [
    {
     "data": {
      "text/plain": [
       "3"
      ]
     },
     "execution_count": 26,
     "metadata": {},
     "output_type": "execute_result"
    }
   ],
   "source": [
    "len(list1)\n",
    "\n"
   ]
  },
  {
   "cell_type": "code",
   "execution_count": 27,
   "id": "be834523",
   "metadata": {},
   "outputs": [
    {
     "data": {
      "text/plain": [
       "5"
      ]
     },
     "execution_count": 27,
     "metadata": {},
     "output_type": "execute_result"
    }
   ],
   "source": [
    "max(list2)"
   ]
  },
  {
   "cell_type": "code",
   "execution_count": 28,
   "id": "846c6131",
   "metadata": {},
   "outputs": [
    {
     "data": {
      "text/plain": [
       "1"
      ]
     },
     "execution_count": 28,
     "metadata": {},
     "output_type": "execute_result"
    }
   ],
   "source": [
    "min(list2)"
   ]
  },
  {
   "cell_type": "code",
   "execution_count": 30,
   "id": "94ca443d",
   "metadata": {},
   "outputs": [],
   "source": [
    "list1.append(2002)"
   ]
  },
  {
   "cell_type": "code",
   "execution_count": 31,
   "id": "94679ddc",
   "metadata": {},
   "outputs": [
    {
     "name": "stdout",
     "output_type": "stream",
     "text": [
      "['Chemistry', 'Physics', 2000, 2002]\n"
     ]
    }
   ],
   "source": [
    "print(list1)"
   ]
  },
  {
   "cell_type": "code",
   "execution_count": 32,
   "id": "502fe7a6",
   "metadata": {},
   "outputs": [],
   "source": [
    "list1.insert(2,1999)"
   ]
  },
  {
   "cell_type": "code",
   "execution_count": 33,
   "id": "eee977c5",
   "metadata": {},
   "outputs": [
    {
     "name": "stdout",
     "output_type": "stream",
     "text": [
      "['Chemistry', 'Physics', 1999, 2000, 2002]\n"
     ]
    }
   ],
   "source": [
    "print(list1)"
   ]
  },
  {
   "cell_type": "code",
   "execution_count": 35,
   "id": "dd844383",
   "metadata": {},
   "outputs": [],
   "source": [
    "list1.remove(1999)"
   ]
  },
  {
   "cell_type": "code",
   "execution_count": 65,
   "id": "7f0342de",
   "metadata": {},
   "outputs": [
    {
     "name": "stdout",
     "output_type": "stream",
     "text": [
      "['Chemistry', 'Physics', 2000, 2002]\n"
     ]
    }
   ],
   "source": [
    "print(list1)"
   ]
  },
  {
   "cell_type": "code",
   "execution_count": 66,
   "id": "ef6527af",
   "metadata": {},
   "outputs": [],
   "source": [
    "seq=(1,2,3,4)"
   ]
  },
  {
   "cell_type": "code",
   "execution_count": 68,
   "id": "320406ed",
   "metadata": {},
   "outputs": [
    {
     "data": {
      "text/plain": [
       "[1, 2, 3, 4]"
      ]
     },
     "execution_count": 68,
     "metadata": {},
     "output_type": "execute_result"
    }
   ],
   "source": [
    "list(seq)"
   ]
  },
  {
   "cell_type": "code",
   "execution_count": null,
   "id": "bde9c7c5",
   "metadata": {},
   "outputs": [],
   "source": []
  },
  {
   "cell_type": "code",
   "execution_count": null,
   "id": "c3769e0e",
   "metadata": {},
   "outputs": [],
   "source": [
    "Basic Tuple operation"
   ]
  },
  {
   "cell_type": "code",
   "execution_count": 38,
   "id": "deedabcf",
   "metadata": {},
   "outputs": [],
   "source": [
    "tuple1=('Math','Physics',1997,2000)"
   ]
  },
  {
   "cell_type": "code",
   "execution_count": 39,
   "id": "d70022a6",
   "metadata": {},
   "outputs": [],
   "source": [
    "tuple2=(1,2,3,4,5)"
   ]
  },
  {
   "cell_type": "code",
   "execution_count": 40,
   "id": "87770f76",
   "metadata": {},
   "outputs": [],
   "source": [
    "tuple3=\"a\",\"b\",\"c\",\"d\""
   ]
  },
  {
   "cell_type": "code",
   "execution_count": 42,
   "id": "e76b2c8b",
   "metadata": {},
   "outputs": [],
   "source": [
    "tuple4=();"
   ]
  },
  {
   "cell_type": "code",
   "execution_count": 43,
   "id": "29499328",
   "metadata": {},
   "outputs": [],
   "source": [
    "tuple5=(50,)"
   ]
  },
  {
   "cell_type": "code",
   "execution_count": 44,
   "id": "8dfd2847",
   "metadata": {},
   "outputs": [
    {
     "name": "stdout",
     "output_type": "stream",
     "text": [
      "tuple1[0]: Math\n"
     ]
    }
   ],
   "source": [
    "print(\"tuple1[0]:\",tuple1[0])"
   ]
  },
  {
   "cell_type": "code",
   "execution_count": 45,
   "id": "6ab0b614",
   "metadata": {},
   "outputs": [
    {
     "name": "stdout",
     "output_type": "stream",
     "text": [
      "tuple2[1:]: (2, 3, 4, 5)\n"
     ]
    }
   ],
   "source": [
    "print(\"tuple2[1:]:\",tuple2[1:])"
   ]
  },
  {
   "cell_type": "code",
   "execution_count": 46,
   "id": "ad68b1b4",
   "metadata": {},
   "outputs": [
    {
     "ename": "TypeError",
     "evalue": "'tuple' object does not support item assignment",
     "output_type": "error",
     "traceback": [
      "\u001b[1;31m---------------------------------------------------------------------------\u001b[0m",
      "\u001b[1;31mTypeError\u001b[0m                                 Traceback (most recent call last)",
      "\u001b[1;32m~\\AppData\\Local\\Temp/ipykernel_11672/125885598.py\u001b[0m in \u001b[0;36m<module>\u001b[1;34m\u001b[0m\n\u001b[1;32m----> 1\u001b[1;33m \u001b[0mtuple2\u001b[0m\u001b[1;33m[\u001b[0m\u001b[1;36m2\u001b[0m\u001b[1;33m]\u001b[0m\u001b[1;33m=\u001b[0m\u001b[1;36m6\u001b[0m\u001b[1;33m\u001b[0m\u001b[1;33m\u001b[0m\u001b[0m\n\u001b[0m",
      "\u001b[1;31mTypeError\u001b[0m: 'tuple' object does not support item assignment"
     ]
    }
   ],
   "source": [
    "tuple2[2]=6"
   ]
  },
  {
   "cell_type": "code",
   "execution_count": 47,
   "id": "ed2ac72c",
   "metadata": {},
   "outputs": [],
   "source": [
    "del tuple1"
   ]
  },
  {
   "cell_type": "code",
   "execution_count": 50,
   "id": "909ea04d",
   "metadata": {},
   "outputs": [
    {
     "data": {
      "text/plain": [
       "3"
      ]
     },
     "execution_count": 50,
     "metadata": {},
     "output_type": "execute_result"
    }
   ],
   "source": [
    "len((1,2,3))"
   ]
  },
  {
   "cell_type": "code",
   "execution_count": 51,
   "id": "ba79a459",
   "metadata": {},
   "outputs": [
    {
     "data": {
      "text/plain": [
       "(1, 2, 3, 4, 5, 6)"
      ]
     },
     "execution_count": 51,
     "metadata": {},
     "output_type": "execute_result"
    }
   ],
   "source": [
    "(1,2,3)+(4,5,6)"
   ]
  },
  {
   "cell_type": "code",
   "execution_count": 53,
   "id": "c4ad829f",
   "metadata": {},
   "outputs": [
    {
     "data": {
      "text/plain": [
       "('Hi!', 'Hi!', 'Hi!', 'Hi!')"
      ]
     },
     "execution_count": 53,
     "metadata": {},
     "output_type": "execute_result"
    }
   ],
   "source": [
    "('Hi!',)*4"
   ]
  },
  {
   "cell_type": "code",
   "execution_count": 54,
   "id": "c4c1048f",
   "metadata": {},
   "outputs": [
    {
     "data": {
      "text/plain": [
       "True"
      ]
     },
     "execution_count": 54,
     "metadata": {},
     "output_type": "execute_result"
    }
   ],
   "source": [
    "3 in (1,2,3)"
   ]
  },
  {
   "cell_type": "code",
   "execution_count": 56,
   "id": "58ab5d45",
   "metadata": {},
   "outputs": [
    {
     "name": "stdout",
     "output_type": "stream",
     "text": [
      "1 2 3 "
     ]
    }
   ],
   "source": [
    "for x in (1,2,3):\n",
    "    print(x,end=' ')"
   ]
  },
  {
   "cell_type": "code",
   "execution_count": 60,
   "id": "3f28dfd7",
   "metadata": {},
   "outputs": [
    {
     "data": {
      "text/plain": [
       "5"
      ]
     },
     "execution_count": 60,
     "metadata": {},
     "output_type": "execute_result"
    }
   ],
   "source": [
    "len(tuple2)"
   ]
  },
  {
   "cell_type": "code",
   "execution_count": 61,
   "id": "d6173c25",
   "metadata": {},
   "outputs": [
    {
     "data": {
      "text/plain": [
       "5"
      ]
     },
     "execution_count": 61,
     "metadata": {},
     "output_type": "execute_result"
    }
   ],
   "source": [
    "max(tuple2)"
   ]
  },
  {
   "cell_type": "code",
   "execution_count": 62,
   "id": "75a9c851",
   "metadata": {},
   "outputs": [
    {
     "data": {
      "text/plain": [
       "1"
      ]
     },
     "execution_count": 62,
     "metadata": {},
     "output_type": "execute_result"
    }
   ],
   "source": [
    "min(tuple2)"
   ]
  },
  {
   "cell_type": "code",
   "execution_count": 63,
   "id": "84619f73",
   "metadata": {},
   "outputs": [],
   "source": [
    "seq=[1,2,3,4]"
   ]
  },
  {
   "cell_type": "code",
   "execution_count": 64,
   "id": "6d7dc177",
   "metadata": {},
   "outputs": [
    {
     "data": {
      "text/plain": [
       "(1, 2, 3, 4)"
      ]
     },
     "execution_count": 64,
     "metadata": {},
     "output_type": "execute_result"
    }
   ],
   "source": [
    "tuple(seq)"
   ]
  },
  {
   "cell_type": "code",
   "execution_count": null,
   "id": "3a95f6f4",
   "metadata": {},
   "outputs": [],
   "source": []
  },
  {
   "cell_type": "code",
   "execution_count": null,
   "id": "1963998f",
   "metadata": {},
   "outputs": [],
   "source": [
    "Basic Dictionary operation"
   ]
  },
  {
   "cell_type": "code",
   "execution_count": 72,
   "id": "fa4da295",
   "metadata": {},
   "outputs": [],
   "source": [
    "dict={'Name':'Zara','Age':7,'Name':'Manni'}"
   ]
  },
  {
   "cell_type": "code",
   "execution_count": 73,
   "id": "32cb7d0e",
   "metadata": {},
   "outputs": [
    {
     "name": "stdout",
     "output_type": "stream",
     "text": [
      "dict['Name']: Manni\n"
     ]
    }
   ],
   "source": [
    "print(\"dict['Name']:\",dict['Name'])"
   ]
  },
  {
   "cell_type": "code",
   "execution_count": 74,
   "id": "06f18896",
   "metadata": {},
   "outputs": [],
   "source": [
    "dict={'Name':'Zara','Age':7,'Class':'First'}"
   ]
  },
  {
   "cell_type": "code",
   "execution_count": 75,
   "id": "32264086",
   "metadata": {},
   "outputs": [
    {
     "name": "stdout",
     "output_type": "stream",
     "text": [
      "dict['Name']: Zara\n"
     ]
    }
   ],
   "source": [
    "print(\"dict['Name']:\",dict['Name'])"
   ]
  },
  {
   "cell_type": "code",
   "execution_count": 76,
   "id": "50218871",
   "metadata": {},
   "outputs": [
    {
     "data": {
      "text/plain": [
       "7"
      ]
     },
     "execution_count": 76,
     "metadata": {},
     "output_type": "execute_result"
    }
   ],
   "source": [
    "dict['Age']"
   ]
  },
  {
   "cell_type": "code",
   "execution_count": 77,
   "id": "3facd463",
   "metadata": {},
   "outputs": [],
   "source": [
    "del dict['Name']"
   ]
  },
  {
   "cell_type": "code",
   "execution_count": 78,
   "id": "1802bd91",
   "metadata": {},
   "outputs": [],
   "source": [
    "dict.clear()"
   ]
  },
  {
   "cell_type": "code",
   "execution_count": 79,
   "id": "7a0b5cf4",
   "metadata": {},
   "outputs": [],
   "source": [
    "del dict"
   ]
  },
  {
   "cell_type": "code",
   "execution_count": 81,
   "id": "82143879",
   "metadata": {},
   "outputs": [],
   "source": [
    "dict1={'Name':'Rohit','Age':20,'Class':'Third'}"
   ]
  },
  {
   "cell_type": "code",
   "execution_count": 96,
   "id": "031b3280",
   "metadata": {},
   "outputs": [],
   "source": [
    "dict2={'Name':'Raj','Age':19}"
   ]
  },
  {
   "cell_type": "code",
   "execution_count": 82,
   "id": "944b90df",
   "metadata": {},
   "outputs": [
    {
     "data": {
      "text/plain": [
       "3"
      ]
     },
     "execution_count": 82,
     "metadata": {},
     "output_type": "execute_result"
    }
   ],
   "source": [
    "len(dict1)"
   ]
  },
  {
   "cell_type": "code",
   "execution_count": 83,
   "id": "4dd5c52e",
   "metadata": {},
   "outputs": [
    {
     "data": {
      "text/plain": [
       "\"<class 'dict'>\""
      ]
     },
     "execution_count": 83,
     "metadata": {},
     "output_type": "execute_result"
    }
   ],
   "source": [
    "str(dict)"
   ]
  },
  {
   "cell_type": "code",
   "execution_count": 90,
   "id": "c87c2364",
   "metadata": {},
   "outputs": [],
   "source": [
    "dict1.clear()"
   ]
  },
  {
   "cell_type": "code",
   "execution_count": 88,
   "id": "7ea1c1c0",
   "metadata": {},
   "outputs": [
    {
     "data": {
      "text/plain": [
       "{}"
      ]
     },
     "execution_count": 88,
     "metadata": {},
     "output_type": "execute_result"
    }
   ],
   "source": [
    "dict1.copy()"
   ]
  },
  {
   "cell_type": "code",
   "execution_count": 89,
   "id": "3a804dec",
   "metadata": {},
   "outputs": [
    {
     "data": {
      "text/plain": [
       "dict_items([])"
      ]
     },
     "execution_count": 89,
     "metadata": {},
     "output_type": "execute_result"
    }
   ],
   "source": [
    "dict1.items()"
   ]
  },
  {
   "cell_type": "code",
   "execution_count": 91,
   "id": "a9f130d0",
   "metadata": {},
   "outputs": [
    {
     "data": {
      "text/plain": [
       "dict_keys([])"
      ]
     },
     "execution_count": 91,
     "metadata": {},
     "output_type": "execute_result"
    }
   ],
   "source": [
    "dict1.keys()"
   ]
  },
  {
   "cell_type": "code",
   "execution_count": 97,
   "id": "86263a05",
   "metadata": {},
   "outputs": [],
   "source": [
    "dict1.update(dict2)"
   ]
  },
  {
   "cell_type": "code",
   "execution_count": 98,
   "id": "a9f494be",
   "metadata": {},
   "outputs": [
    {
     "data": {
      "text/plain": [
       "dict_values(['Raj', 19])"
      ]
     },
     "execution_count": 98,
     "metadata": {},
     "output_type": "execute_result"
    }
   ],
   "source": [
    "dict2.values()"
   ]
  },
  {
   "cell_type": "code",
   "execution_count": null,
   "id": "8c6c2e99",
   "metadata": {},
   "outputs": [],
   "source": []
  }
 ],
 "metadata": {
  "kernelspec": {
   "display_name": "Python 3 (ipykernel)",
   "language": "python",
   "name": "python3"
  },
  "language_info": {
   "codemirror_mode": {
    "name": "ipython",
    "version": 3
   },
   "file_extension": ".py",
   "mimetype": "text/x-python",
   "name": "python",
   "nbconvert_exporter": "python",
   "pygments_lexer": "ipython3",
   "version": "3.9.7"
  }
 },
 "nbformat": 4,
 "nbformat_minor": 5
}
