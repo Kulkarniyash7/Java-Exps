{
 "cells": [
  {
   "cell_type": "code",
   "execution_count": 1,
   "id": "18bf0ac0",
   "metadata": {},
   "outputs": [],
   "source": [
    "import numpy as np"
   ]
  },
  {
   "cell_type": "code",
   "execution_count": 3,
   "id": "16a42d2e",
   "metadata": {},
   "outputs": [],
   "source": [
    "a=np.array([1,2,3])"
   ]
  },
  {
   "cell_type": "code",
   "execution_count": 4,
   "id": "f3cace67",
   "metadata": {},
   "outputs": [
    {
     "name": "stdout",
     "output_type": "stream",
     "text": [
      "<class 'numpy.ndarray'>\n"
     ]
    }
   ],
   "source": [
    "print(type(a))"
   ]
  },
  {
   "cell_type": "code",
   "execution_count": 5,
   "id": "f1161b36",
   "metadata": {},
   "outputs": [
    {
     "name": "stdout",
     "output_type": "stream",
     "text": [
      "(3,)\n"
     ]
    }
   ],
   "source": [
    "print(a.shape)"
   ]
  },
  {
   "cell_type": "code",
   "execution_count": 6,
   "id": "b5f9a780",
   "metadata": {},
   "outputs": [
    {
     "name": "stdout",
     "output_type": "stream",
     "text": [
      "1 2 3\n"
     ]
    }
   ],
   "source": [
    "print(a[0],a[1],a[2])"
   ]
  },
  {
   "cell_type": "code",
   "execution_count": 7,
   "id": "455fb00b",
   "metadata": {},
   "outputs": [],
   "source": [
    "a[0]=5"
   ]
  },
  {
   "cell_type": "code",
   "execution_count": 8,
   "id": "9839989b",
   "metadata": {},
   "outputs": [
    {
     "name": "stdout",
     "output_type": "stream",
     "text": [
      "[5 2 3]\n"
     ]
    }
   ],
   "source": [
    "print(a)"
   ]
  },
  {
   "cell_type": "code",
   "execution_count": 10,
   "id": "4dbeda46",
   "metadata": {},
   "outputs": [],
   "source": [
    "b=np.array([[1,2,3],[4,5,6]])"
   ]
  },
  {
   "cell_type": "code",
   "execution_count": 11,
   "id": "5623de34",
   "metadata": {},
   "outputs": [
    {
     "name": "stdout",
     "output_type": "stream",
     "text": [
      "(2, 3)\n"
     ]
    }
   ],
   "source": [
    "print(b.shape)"
   ]
  },
  {
   "cell_type": "code",
   "execution_count": 12,
   "id": "ceb03f41",
   "metadata": {},
   "outputs": [
    {
     "name": "stdout",
     "output_type": "stream",
     "text": [
      "1 2 4\n"
     ]
    }
   ],
   "source": [
    "print(b[0,0],b[0,1],b[1,0])"
   ]
  },
  {
   "cell_type": "code",
   "execution_count": 13,
   "id": "ffd793f7",
   "metadata": {},
   "outputs": [],
   "source": [
    "a=np.zeros((2,2))"
   ]
  },
  {
   "cell_type": "code",
   "execution_count": 14,
   "id": "8958d229",
   "metadata": {},
   "outputs": [
    {
     "name": "stdout",
     "output_type": "stream",
     "text": [
      "[[0. 0.]\n",
      " [0. 0.]]\n"
     ]
    }
   ],
   "source": [
    "print(a)"
   ]
  },
  {
   "cell_type": "code",
   "execution_count": 15,
   "id": "b585e0b3",
   "metadata": {},
   "outputs": [],
   "source": [
    "b=np.ones((2,2))"
   ]
  },
  {
   "cell_type": "code",
   "execution_count": 16,
   "id": "69ab8aa2",
   "metadata": {},
   "outputs": [
    {
     "name": "stdout",
     "output_type": "stream",
     "text": [
      "[[1. 1.]\n",
      " [1. 1.]]\n"
     ]
    }
   ],
   "source": [
    "print(b)"
   ]
  },
  {
   "cell_type": "code",
   "execution_count": 17,
   "id": "3bdaf85f",
   "metadata": {},
   "outputs": [],
   "source": [
    "c=np.full((2,2),7)"
   ]
  },
  {
   "cell_type": "code",
   "execution_count": 18,
   "id": "89067216",
   "metadata": {},
   "outputs": [
    {
     "name": "stdout",
     "output_type": "stream",
     "text": [
      "[[7 7]\n",
      " [7 7]]\n"
     ]
    }
   ],
   "source": [
    "print(c)"
   ]
  },
  {
   "cell_type": "code",
   "execution_count": 19,
   "id": "1f111ec1",
   "metadata": {},
   "outputs": [],
   "source": [
    "d=np.eye(2)"
   ]
  },
  {
   "cell_type": "code",
   "execution_count": 20,
   "id": "e8c40edb",
   "metadata": {},
   "outputs": [
    {
     "name": "stdout",
     "output_type": "stream",
     "text": [
      "[[1. 0.]\n",
      " [0. 1.]]\n"
     ]
    }
   ],
   "source": [
    "print(d)"
   ]
  },
  {
   "cell_type": "code",
   "execution_count": 21,
   "id": "206df66b",
   "metadata": {},
   "outputs": [],
   "source": [
    "e=np.random.random((2,2))"
   ]
  },
  {
   "cell_type": "code",
   "execution_count": 22,
   "id": "5d279600",
   "metadata": {},
   "outputs": [
    {
     "name": "stdout",
     "output_type": "stream",
     "text": [
      "[[0.8475956  0.18939458]\n",
      " [0.06816814 0.8512077 ]]\n"
     ]
    }
   ],
   "source": [
    "print(e)"
   ]
  },
  {
   "cell_type": "code",
   "execution_count": 23,
   "id": "9e138acf",
   "metadata": {},
   "outputs": [
    {
     "data": {
      "text/plain": [
       "array([[1, 2],\n",
       "       [3, 4]])"
      ]
     },
     "execution_count": 23,
     "metadata": {},
     "output_type": "execute_result"
    }
   ],
   "source": [
    "np.array(np.mat('1 2;3 4'))"
   ]
  },
  {
   "cell_type": "code",
   "execution_count": 24,
   "id": "33d1be12",
   "metadata": {},
   "outputs": [
    {
     "data": {
      "text/plain": [
       "matrix([[1, 2],\n",
       "        [3, 4]])"
      ]
     },
     "execution_count": 24,
     "metadata": {},
     "output_type": "execute_result"
    }
   ],
   "source": [
    "np.array(np.mat('1 2;3 4'),subok=True)"
   ]
  },
  {
   "cell_type": "code",
   "execution_count": 25,
   "id": "2d42a041",
   "metadata": {},
   "outputs": [],
   "source": [
    "a=np.arange(10)"
   ]
  },
  {
   "cell_type": "code",
   "execution_count": 26,
   "id": "fe0c147f",
   "metadata": {},
   "outputs": [
    {
     "name": "stdout",
     "output_type": "stream",
     "text": [
      "[2 3 4]\n"
     ]
    }
   ],
   "source": [
    "print(a[2:5])"
   ]
  },
  {
   "cell_type": "code",
   "execution_count": 28,
   "id": "477192b9",
   "metadata": {},
   "outputs": [],
   "source": [
    "a=np.array([[1,2,3],[3,4,5],[4,7,9]])"
   ]
  },
  {
   "cell_type": "code",
   "execution_count": 29,
   "id": "25283b8a",
   "metadata": {},
   "outputs": [
    {
     "name": "stdout",
     "output_type": "stream",
     "text": [
      "[[3 4 5]\n",
      " [4 7 9]]\n"
     ]
    }
   ],
   "source": [
    "print(a[1:])"
   ]
  },
  {
   "cell_type": "code",
   "execution_count": 30,
   "id": "0d06679b",
   "metadata": {},
   "outputs": [],
   "source": [
    "a=np.array([[1,2,3],[4,5,6],[7,6,5]])"
   ]
  },
  {
   "cell_type": "code",
   "execution_count": 32,
   "id": "56fc364b",
   "metadata": {},
   "outputs": [
    {
     "name": "stdout",
     "output_type": "stream",
     "text": [
      "[2 5 6]\n"
     ]
    }
   ],
   "source": [
    "print(a[...,1])"
   ]
  },
  {
   "cell_type": "code",
   "execution_count": 34,
   "id": "ba541a80",
   "metadata": {},
   "outputs": [
    {
     "name": "stdout",
     "output_type": "stream",
     "text": [
      "[4 5 6]\n"
     ]
    }
   ],
   "source": [
    "print(a[1,...])"
   ]
  },
  {
   "cell_type": "code",
   "execution_count": 36,
   "id": "55356ad2",
   "metadata": {},
   "outputs": [
    {
     "name": "stdout",
     "output_type": "stream",
     "text": [
      "[[2 3]\n",
      " [5 6]\n",
      " [6 5]]\n"
     ]
    }
   ],
   "source": [
    "print(a[...,1:])"
   ]
  },
  {
   "cell_type": "code",
   "execution_count": 37,
   "id": "89237737",
   "metadata": {},
   "outputs": [],
   "source": [
    "x=np.array([[1,2],[3,4],[5,6]])"
   ]
  },
  {
   "cell_type": "code",
   "execution_count": 38,
   "id": "0c6d0291",
   "metadata": {},
   "outputs": [],
   "source": [
    "y=x[[0,1,2],[0,1,0]]"
   ]
  },
  {
   "cell_type": "code",
   "execution_count": 39,
   "id": "c87d671c",
   "metadata": {},
   "outputs": [
    {
     "name": "stdout",
     "output_type": "stream",
     "text": [
      "[1 4 5]\n"
     ]
    }
   ],
   "source": [
    "print(y)"
   ]
  },
  {
   "cell_type": "code",
   "execution_count": 42,
   "id": "023de137",
   "metadata": {},
   "outputs": [],
   "source": [
    "x=np.array([[1,1,2],[3,4,5],[6,7,8],[9,10,11]])"
   ]
  },
  {
   "cell_type": "code",
   "execution_count": 43,
   "id": "fabdaa44",
   "metadata": {},
   "outputs": [
    {
     "name": "stdout",
     "output_type": "stream",
     "text": [
      "[ 6  7  8  9 10 11]\n"
     ]
    }
   ],
   "source": [
    "print(x[x>5])"
   ]
  },
  {
   "cell_type": "code",
   "execution_count": null,
   "id": "d4c87fb3",
   "metadata": {},
   "outputs": [],
   "source": []
  }
 ],
 "metadata": {
  "kernelspec": {
   "display_name": "Python 3 (ipykernel)",
   "language": "python",
   "name": "python3"
  },
  "language_info": {
   "codemirror_mode": {
    "name": "ipython",
    "version": 3
   },
   "file_extension": ".py",
   "mimetype": "text/x-python",
   "name": "python",
   "nbconvert_exporter": "python",
   "pygments_lexer": "ipython3",
   "version": "3.9.7"
  }
 },
 "nbformat": 4,
 "nbformat_minor": 5
}
